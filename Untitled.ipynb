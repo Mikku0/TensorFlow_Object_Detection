{
 "cells": [
  {
   "cell_type": "code",
   "execution_count": 4,
   "id": "60ebc6b0-64a2-4196-9bdd-b30c5f9485d0",
   "metadata": {
    "collapsed": true,
    "jupyter": {
     "outputs_hidden": true
    }
   },
   "outputs": [
    {
     "name": "stdout",
     "output_type": "stream",
     "text": [
      "Requirement already satisfied: tensorflow in d:\\projektypython\\jupyter_tensorflow\\venv\\lib\\site-packages (2.17.0)\n",
      "Requirement already satisfied: tensorflow-intel==2.17.0 in d:\\projektypython\\jupyter_tensorflow\\venv\\lib\\site-packages (from tensorflow) (2.17.0)\n",
      "Requirement already satisfied: absl-py>=1.0.0 in d:\\projektypython\\jupyter_tensorflow\\venv\\lib\\site-packages (from tensorflow-intel==2.17.0->tensorflow) (2.1.0)\n",
      "Requirement already satisfied: astunparse>=1.6.0 in d:\\projektypython\\jupyter_tensorflow\\venv\\lib\\site-packages (from tensorflow-intel==2.17.0->tensorflow) (1.6.3)\n",
      "Requirement already satisfied: flatbuffers>=24.3.25 in d:\\projektypython\\jupyter_tensorflow\\venv\\lib\\site-packages (from tensorflow-intel==2.17.0->tensorflow) (24.3.25)\n",
      "Requirement already satisfied: gast!=0.5.0,!=0.5.1,!=0.5.2,>=0.2.1 in d:\\projektypython\\jupyter_tensorflow\\venv\\lib\\site-packages (from tensorflow-intel==2.17.0->tensorflow) (0.6.0)\n",
      "Requirement already satisfied: google-pasta>=0.1.1 in d:\\projektypython\\jupyter_tensorflow\\venv\\lib\\site-packages (from tensorflow-intel==2.17.0->tensorflow) (0.2.0)\n",
      "Requirement already satisfied: h5py>=3.10.0 in d:\\projektypython\\jupyter_tensorflow\\venv\\lib\\site-packages (from tensorflow-intel==2.17.0->tensorflow) (3.12.1)\n",
      "Requirement already satisfied: libclang>=13.0.0 in d:\\projektypython\\jupyter_tensorflow\\venv\\lib\\site-packages (from tensorflow-intel==2.17.0->tensorflow) (18.1.1)\n",
      "Requirement already satisfied: ml-dtypes<0.5.0,>=0.3.1 in d:\\projektypython\\jupyter_tensorflow\\venv\\lib\\site-packages (from tensorflow-intel==2.17.0->tensorflow) (0.4.1)\n",
      "Requirement already satisfied: opt-einsum>=2.3.2 in d:\\projektypython\\jupyter_tensorflow\\venv\\lib\\site-packages (from tensorflow-intel==2.17.0->tensorflow) (3.4.0)\n",
      "Requirement already satisfied: packaging in d:\\projektypython\\jupyter_tensorflow\\venv\\lib\\site-packages (from tensorflow-intel==2.17.0->tensorflow) (24.1)\n",
      "Requirement already satisfied: protobuf!=4.21.0,!=4.21.1,!=4.21.2,!=4.21.3,!=4.21.4,!=4.21.5,<5.0.0dev,>=3.20.3 in d:\\projektypython\\jupyter_tensorflow\\venv\\lib\\site-packages (from tensorflow-intel==2.17.0->tensorflow) (4.25.5)\n",
      "Requirement already satisfied: requests<3,>=2.21.0 in d:\\projektypython\\jupyter_tensorflow\\venv\\lib\\site-packages (from tensorflow-intel==2.17.0->tensorflow) (2.32.3)\n",
      "Requirement already satisfied: setuptools in d:\\projektypython\\jupyter_tensorflow\\venv\\lib\\site-packages (from tensorflow-intel==2.17.0->tensorflow) (75.1.0)\n",
      "Requirement already satisfied: six>=1.12.0 in d:\\projektypython\\jupyter_tensorflow\\venv\\lib\\site-packages (from tensorflow-intel==2.17.0->tensorflow) (1.16.0)\n",
      "Requirement already satisfied: termcolor>=1.1.0 in d:\\projektypython\\jupyter_tensorflow\\venv\\lib\\site-packages (from tensorflow-intel==2.17.0->tensorflow) (2.4.0)\n",
      "Requirement already satisfied: typing-extensions>=3.6.6 in d:\\projektypython\\jupyter_tensorflow\\venv\\lib\\site-packages (from tensorflow-intel==2.17.0->tensorflow) (4.12.2)\n",
      "Requirement already satisfied: wrapt>=1.11.0 in d:\\projektypython\\jupyter_tensorflow\\venv\\lib\\site-packages (from tensorflow-intel==2.17.0->tensorflow) (1.16.0)\n",
      "Requirement already satisfied: grpcio<2.0,>=1.24.3 in d:\\projektypython\\jupyter_tensorflow\\venv\\lib\\site-packages (from tensorflow-intel==2.17.0->tensorflow) (1.66.2)\n",
      "Requirement already satisfied: tensorboard<2.18,>=2.17 in d:\\projektypython\\jupyter_tensorflow\\venv\\lib\\site-packages (from tensorflow-intel==2.17.0->tensorflow) (2.17.1)\n",
      "Requirement already satisfied: keras>=3.2.0 in d:\\projektypython\\jupyter_tensorflow\\venv\\lib\\site-packages (from tensorflow-intel==2.17.0->tensorflow) (3.5.0)\n",
      "Requirement already satisfied: numpy<2.0.0,>=1.26.0 in d:\\projektypython\\jupyter_tensorflow\\venv\\lib\\site-packages (from tensorflow-intel==2.17.0->tensorflow) (1.26.4)\n",
      "Requirement already satisfied: wheel<1.0,>=0.23.0 in d:\\projektypython\\jupyter_tensorflow\\venv\\lib\\site-packages (from astunparse>=1.6.0->tensorflow-intel==2.17.0->tensorflow) (0.44.0)\n",
      "Requirement already satisfied: rich in d:\\projektypython\\jupyter_tensorflow\\venv\\lib\\site-packages (from keras>=3.2.0->tensorflow-intel==2.17.0->tensorflow) (13.8.1)\n",
      "Requirement already satisfied: namex in d:\\projektypython\\jupyter_tensorflow\\venv\\lib\\site-packages (from keras>=3.2.0->tensorflow-intel==2.17.0->tensorflow) (0.0.8)\n",
      "Requirement already satisfied: optree in d:\\projektypython\\jupyter_tensorflow\\venv\\lib\\site-packages (from keras>=3.2.0->tensorflow-intel==2.17.0->tensorflow) (0.12.1)\n",
      "Requirement already satisfied: charset-normalizer<4,>=2 in d:\\projektypython\\jupyter_tensorflow\\venv\\lib\\site-packages (from requests<3,>=2.21.0->tensorflow-intel==2.17.0->tensorflow) (3.3.2)\n",
      "Requirement already satisfied: idna<4,>=2.5 in d:\\projektypython\\jupyter_tensorflow\\venv\\lib\\site-packages (from requests<3,>=2.21.0->tensorflow-intel==2.17.0->tensorflow) (3.10)\n",
      "Requirement already satisfied: urllib3<3,>=1.21.1 in d:\\projektypython\\jupyter_tensorflow\\venv\\lib\\site-packages (from requests<3,>=2.21.0->tensorflow-intel==2.17.0->tensorflow) (2.2.3)\n",
      "Requirement already satisfied: certifi>=2017.4.17 in d:\\projektypython\\jupyter_tensorflow\\venv\\lib\\site-packages (from requests<3,>=2.21.0->tensorflow-intel==2.17.0->tensorflow) (2024.8.30)\n",
      "Requirement already satisfied: markdown>=2.6.8 in d:\\projektypython\\jupyter_tensorflow\\venv\\lib\\site-packages (from tensorboard<2.18,>=2.17->tensorflow-intel==2.17.0->tensorflow) (3.7)\n",
      "Requirement already satisfied: tensorboard-data-server<0.8.0,>=0.7.0 in d:\\projektypython\\jupyter_tensorflow\\venv\\lib\\site-packages (from tensorboard<2.18,>=2.17->tensorflow-intel==2.17.0->tensorflow) (0.7.2)\n",
      "Requirement already satisfied: werkzeug>=1.0.1 in d:\\projektypython\\jupyter_tensorflow\\venv\\lib\\site-packages (from tensorboard<2.18,>=2.17->tensorflow-intel==2.17.0->tensorflow) (3.0.4)\n",
      "Requirement already satisfied: MarkupSafe>=2.1.1 in d:\\projektypython\\jupyter_tensorflow\\venv\\lib\\site-packages (from werkzeug>=1.0.1->tensorboard<2.18,>=2.17->tensorflow-intel==2.17.0->tensorflow) (2.1.5)\n",
      "Requirement already satisfied: markdown-it-py>=2.2.0 in d:\\projektypython\\jupyter_tensorflow\\venv\\lib\\site-packages (from rich->keras>=3.2.0->tensorflow-intel==2.17.0->tensorflow) (3.0.0)\n",
      "Requirement already satisfied: pygments<3.0.0,>=2.13.0 in d:\\projektypython\\jupyter_tensorflow\\venv\\lib\\site-packages (from rich->keras>=3.2.0->tensorflow-intel==2.17.0->tensorflow) (2.18.0)\n",
      "Requirement already satisfied: mdurl~=0.1 in d:\\projektypython\\jupyter_tensorflow\\venv\\lib\\site-packages (from markdown-it-py>=2.2.0->rich->keras>=3.2.0->tensorflow-intel==2.17.0->tensorflow) (0.1.2)\n"
     ]
    }
   ],
   "source": [
    "!pip install tensorflow"
   ]
  },
  {
   "cell_type": "code",
   "execution_count": 6,
   "id": "d3e7fb1c-dd26-49d8-86c8-5dfd4b035a01",
   "metadata": {
    "collapsed": true,
    "jupyter": {
     "outputs_hidden": true
    },
    "scrolled": true
   },
   "outputs": [
    {
     "name": "stdout",
     "output_type": "stream",
     "text": [
      "Collecting opencv-python\n",
      "  Using cached opencv_python-4.10.0.84-cp37-abi3-win_amd64.whl.metadata (20 kB)\n",
      "Requirement already satisfied: numpy>=1.21.2 in d:\\projektypython\\jupyter_tensorflow\\venv\\lib\\site-packages (from opencv-python) (1.26.4)\n",
      "Using cached opencv_python-4.10.0.84-cp37-abi3-win_amd64.whl (38.8 MB)\n",
      "Installing collected packages: opencv-python\n",
      "Successfully installed opencv-python-4.10.0.84\n"
     ]
    }
   ],
   "source": [
    "!pip install opencv-python"
   ]
  },
  {
   "cell_type": "code",
   "execution_count": 7,
   "id": "01931868-a0e1-44d1-ab7a-be0dbf7f9653",
   "metadata": {},
   "outputs": [],
   "source": [
    "import cv2\n",
    "import uuid\n",
    "import os\n",
    "import time"
   ]
  },
  {
   "cell_type": "code",
   "execution_count": null,
   "id": "9c6c531a-e32d-47e7-b5c2-37c65c1f3205",
   "metadata": {},
   "outputs": [],
   "source": [
    "labels = ['thumbsup', 'thumbsdown', 'thankyou', 'livelong']\n",
    "\n",
    "number_imgs = 5\n",
    "\n",
    "IMAGES_PATH = os.path.join('TensorFlow', 'workspace', 'images')\n",
    "\n",
    "if not os.path.exists(IMAGES_PATH):\n",
    "    !mkdir {IMAGES_PATH}\n",
    "    \n",
    "for label in labels:\n",
    "    path = os.path.join(IMAGES_PATH, label)\n",
    "    if not os.path.exists(path):\n",
    "        !mkdir {path}\n",
    "\n",
    "for label in labels:\n",
    "    cap = cv2.VideoCapture(0)\n",
    "    print(f'Collecting images for {label}')\n",
    "    time.sleep(5)\n",
    "    for img_num in range(number_imgs):\n",
    "        print(f'Collecting image {img_num}')\n",
    "        ret, frame = cap.read()\n",
    "        img_name = os.path.join(IMAGES_PATH, label, label + '.' + '{}.jpg'.format(str(uuid.uuid1())))\n",
    "        cv2.imwrite(img_name, frame)\n",
    "        cv2.imshow('frame', frame)\n",
    "        time.sleep(3)\n",
    "\n",
    "        if cv2.waitKey(1) & 0xFF == ord('q'):\n",
    "            break\n",
    "\n",
    "cap.release()\n",
    "cv2.destroyAllWindows()\n"
   ]
  },
  {
   "cell_type": "code",
   "execution_count": 12,
   "id": "bd1f63aa-7c9b-4512-97b2-660869ff0680",
   "metadata": {},
   "outputs": [],
   "source": [
    "\n",
    "LABEL_IMG_PATH = os.path.join('TensorFlow', 'label_img', 'labelImg')\n",
    "\n",
    "if not os.path.exists(LABEL_IMG_PATH):\n",
    "    !mkdir {LABEL_IMG_PATH}"
   ]
  },
  {
   "cell_type": "code",
   "execution_count": 10,
   "id": "a7f841c0-ad9c-43b6-b3d8-0dfc42a905c8",
   "metadata": {
    "collapsed": true,
    "jupyter": {
     "outputs_hidden": true
    },
    "scrolled": true
   },
   "outputs": [
    {
     "name": "stdout",
     "output_type": "stream",
     "text": [
      "Requirement already satisfied: pyqt5 in d:\\projektypython\\jupyter_tensorflow\\venv\\lib\\site-packages (5.15.11)\n",
      "Requirement already satisfied: lxml in d:\\projektypython\\jupyter_tensorflow\\venv\\lib\\site-packages (5.3.0)\n",
      "Requirement already satisfied: PyQt5-sip<13,>=12.15 in d:\\projektypython\\jupyter_tensorflow\\venv\\lib\\site-packages (from pyqt5) (12.15.0)\n",
      "Requirement already satisfied: PyQt5-Qt5<5.16.0,>=5.15.2 in d:\\projektypython\\jupyter_tensorflow\\venv\\lib\\site-packages (from pyqt5) (5.15.2)\n"
     ]
    }
   ],
   "source": [
    "!pip install --upgrade pyqt5 lxml"
   ]
  },
  {
   "cell_type": "code",
   "execution_count": 13,
   "id": "d74846ec-ab4d-4a1a-a9ec-82420c0ea6e3",
   "metadata": {},
   "outputs": [],
   "source": [
    "!cd {LABEL_IMG_PATH} && pyrcc5 -o libs/resources.py resources.qrc"
   ]
  },
  {
   "cell_type": "code",
   "execution_count": 14,
   "id": "a80dc98b-ab8f-4180-8b6f-15e12bda6532",
   "metadata": {
    "collapsed": true,
    "jupyter": {
     "outputs_hidden": true
    }
   },
   "outputs": [
    {
     "name": "stdout",
     "output_type": "stream",
     "text": [
      "Image:D:\\ProjektyPython\\Jupyter_TensorFlow\\TensorFlow\\workspace\\images\\livelong\\livelong.cfa96d5f-7f50-11ef-93a4-047c16e4e3a9.jpg -> Annotation:D:/ProjektyPython/Jupyter_TensorFlow/TensorFlow/workspace/images/livelong\\livelong.cfa96d5f-7f50-11ef-93a4-047c16e4e3a9.xml\n",
      "Image:D:\\ProjektyPython\\Jupyter_TensorFlow\\TensorFlow\\workspace\\images\\livelong\\livelong.cfa96d5f-7f50-11ef-93a4-047c16e4e3a9.jpg -> Annotation:D:/ProjektyPython/Jupyter_TensorFlow/TensorFlow/workspace/images/livelong\\livelong.cfa96d5f-7f50-11ef-93a4-047c16e4e3a9.xml\n",
      "Image:D:\\ProjektyPython\\Jupyter_TensorFlow\\TensorFlow\\workspace\\images\\livelong\\livelong.d6d90505-7f50-11ef-819e-047c16e4e3a9.jpg -> Annotation:D:/ProjektyPython/Jupyter_TensorFlow/TensorFlow/workspace/images/livelong\\livelong.d6d90505-7f50-11ef-819e-047c16e4e3a9.xml\n",
      "Image:D:\\ProjektyPython\\Jupyter_TensorFlow\\TensorFlow\\workspace\\images\\livelong\\livelong.d50c1731-7f50-11ef-88cf-047c16e4e3a9.jpg -> Annotation:D:/ProjektyPython/Jupyter_TensorFlow/TensorFlow/workspace/images/livelong\\livelong.d50c1731-7f50-11ef-88cf-047c16e4e3a9.xml\n",
      "Image:D:\\ProjektyPython\\Jupyter_TensorFlow\\TensorFlow\\workspace\\images\\livelong\\livelong.d174fb4c-7f50-11ef-bd81-047c16e4e3a9.jpg -> Annotation:D:/ProjektyPython/Jupyter_TensorFlow/TensorFlow/workspace/images/livelong\\livelong.d174fb4c-7f50-11ef-bd81-047c16e4e3a9.xml\n",
      "Image:D:\\ProjektyPython\\Jupyter_TensorFlow\\TensorFlow\\workspace\\images\\livelong\\livelong.d3403b0f-7f50-11ef-8fc6-047c16e4e3a9.jpg -> Annotation:D:/ProjektyPython/Jupyter_TensorFlow/TensorFlow/workspace/images/livelong\\livelong.d3403b0f-7f50-11ef-8fc6-047c16e4e3a9.xml\n",
      "Cancel creation.\n",
      "Image:D:\\ProjektyPython\\Jupyter_TensorFlow\\TensorFlow\\workspace\\images\\thankyou\\thankyou.c592e535-7f50-11ef-a52b-047c16e4e3a9.jpg -> Annotation:D:/ProjektyPython/Jupyter_TensorFlow/TensorFlow/workspace/images/thankyou\\thankyou.c592e535-7f50-11ef-a52b-047c16e4e3a9.xml\n",
      "Image:D:\\ProjektyPython\\Jupyter_TensorFlow\\TensorFlow\\workspace\\images\\thumbsdown\\thumbsdown.b7eaad47-7f50-11ef-aabb-047c16e4e3a9.jpg -> Annotation:D:/ProjektyPython/Jupyter_TensorFlow/TensorFlow/workspace/images/thumbsdown\\thumbsdown.b7eaad47-7f50-11ef-aabb-047c16e4e3a9.xml\n",
      "Cancel creation.\n",
      "Image:D:\\ProjektyPython\\Jupyter_TensorFlow\\TensorFlow\\workspace\\images\\thumbsdown\\thumbsdown.b9b63b3e-7f50-11ef-9b37-047c16e4e3a9.jpg -> Annotation:D:/ProjektyPython/Jupyter_TensorFlow/TensorFlow/workspace/images/thumbsdown\\thumbsdown.b9b63b3e-7f50-11ef-9b37-047c16e4e3a9.xml\n",
      "Image:D:\\ProjektyPython\\Jupyter_TensorFlow\\TensorFlow\\workspace\\images\\thumbsdown\\thumbsdown.b61ed127-7f50-11ef-8b72-047c16e4e3a9.jpg -> Annotation:D:/ProjektyPython/Jupyter_TensorFlow/TensorFlow/workspace/images/thumbsdown\\thumbsdown.b61ed127-7f50-11ef-8b72-047c16e4e3a9.xml\n",
      "Cancel creation.\n",
      "Image:D:\\ProjektyPython\\Jupyter_TensorFlow\\TensorFlow\\workspace\\images\\thumbsdown\\thumbsdown.bb81f04a-7f50-11ef-919a-047c16e4e3a9.jpg -> Annotation:D:/ProjektyPython/Jupyter_TensorFlow/TensorFlow/workspace/images/thumbsdown\\thumbsdown.bb81f04a-7f50-11ef-919a-047c16e4e3a9.xml\n",
      "Cancel creation.\n",
      "Cancel creation.\n",
      "Image:D:\\ProjektyPython\\Jupyter_TensorFlow\\TensorFlow\\workspace\\images\\thumbsup\\thumbsup.932d01a0-7f50-11ef-8bbe-047c16e4e3a9.jpg -> Annotation:D:/ProjektyPython/Jupyter_TensorFlow/TensorFlow/workspace/images/thumbsup\\thumbsup.932d01a0-7f50-11ef-8bbe-047c16e4e3a9.xml\n",
      "Image:D:\\ProjektyPython\\Jupyter_TensorFlow\\TensorFlow\\workspace\\images\\thumbsup\\thumbsup.a69f48b8-7f50-11ef-aacd-047c16e4e3a9.jpg -> Annotation:D:/ProjektyPython/Jupyter_TensorFlow/TensorFlow/workspace/images/thumbsup\\thumbsup.a69f48b8-7f50-11ef-aacd-047c16e4e3a9.xml\n",
      "Image:D:\\ProjektyPython\\Jupyter_TensorFlow\\TensorFlow\\workspace\\images\\thumbsup\\thumbsup.a86d212e-7f50-11ef-8ba0-047c16e4e3a9.jpg -> Annotation:D:/ProjektyPython/Jupyter_TensorFlow/TensorFlow/workspace/images/thumbsup\\thumbsup.a86d212e-7f50-11ef-8ba0-047c16e4e3a9.xml\n",
      "Image:D:\\ProjektyPython\\Jupyter_TensorFlow\\TensorFlow\\workspace\\images\\thumbsup\\thumbsup.aa3812b7-7f50-11ef-b1f3-047c16e4e3a9.jpg -> Annotation:D:/ProjektyPython/Jupyter_TensorFlow/TensorFlow/workspace/images/thumbsup\\thumbsup.aa3812b7-7f50-11ef-b1f3-047c16e4e3a9.xml\n",
      "Image:D:\\ProjektyPython\\Jupyter_TensorFlow\\TensorFlow\\workspace\\images\\thumbsup\\thumbsup.ac03a0a9-7f50-11ef-adf2-047c16e4e3a9.jpg -> Annotation:D:/ProjektyPython/Jupyter_TensorFlow/TensorFlow/workspace/images/thumbsup\\thumbsup.ac03a0a9-7f50-11ef-adf2-047c16e4e3a9.xml\n",
      "Image:D:\\ProjektyPython\\Jupyter_TensorFlow\\TensorFlow\\workspace\\images\\thumbsup\\thumbsup.adcf55b4-7f50-11ef-b01a-047c16e4e3a9.jpg -> Annotation:D:/ProjektyPython/Jupyter_TensorFlow/TensorFlow/workspace/images/thumbsup\\thumbsup.adcf55b4-7f50-11ef-b01a-047c16e4e3a9.xml\n",
      "Image:D:\\ProjektyPython\\Jupyter_TensorFlow\\TensorFlow\\workspace\\images\\thankyou\\thankyou.c92cad75-7f50-11ef-8530-047c16e4e3a9.jpg -> Annotation:D:/ProjektyPython/Jupyter_TensorFlow/TensorFlow/workspace/images/thankyou\\thankyou.c92cad75-7f50-11ef-8530-047c16e4e3a9.xml\n",
      "Cancel creation.\n",
      "Cancel creation.\n",
      "Image:D:\\ProjektyPython\\Jupyter_TensorFlow\\TensorFlow\\workspace\\images\\thankyou\\thankyou.c75e38a5-7f50-11ef-9b48-047c16e4e3a9.jpg -> Annotation:D:/ProjektyPython/Jupyter_TensorFlow/TensorFlow/workspace/images/thankyou\\thankyou.c75e38a5-7f50-11ef-9b48-047c16e4e3a9.xml\n",
      "Image:D:\\ProjektyPython\\Jupyter_TensorFlow\\TensorFlow\\workspace\\images\\thankyou\\thankyou.c3c693c7-7f50-11ef-ac60-047c16e4e3a9.jpg -> Annotation:D:/ProjektyPython/Jupyter_TensorFlow/TensorFlow/workspace/images/thankyou\\thankyou.c3c693c7-7f50-11ef-ac60-047c16e4e3a9.xml\n",
      "Image:D:\\ProjektyPython\\Jupyter_TensorFlow\\TensorFlow\\workspace\\images\\thankyou\\thankyou.c1f9a5ee-7f50-11ef-a238-047c16e4e3a9.jpg -> Annotation:D:/ProjektyPython/Jupyter_TensorFlow/TensorFlow/workspace/images/thankyou\\thankyou.c1f9a5ee-7f50-11ef-a238-047c16e4e3a9.xml\n",
      "Image:D:\\ProjektyPython\\Jupyter_TensorFlow\\TensorFlow\\workspace\\images\\thumbsdown\\thumbsdown.b4536a4f-7f50-11ef-806c-047c16e4e3a9.jpg -> Annotation:D:/ProjektyPython/Jupyter_TensorFlow/TensorFlow/workspace/images/thumbsdown\\thumbsdown.b4536a4f-7f50-11ef-806c-047c16e4e3a9.xml\n"
     ]
    }
   ],
   "source": [
    "!cd {LABEL_IMG_PATH} && python labelImg.py"
   ]
  },
  {
   "cell_type": "code",
   "execution_count": null,
   "id": "45664b0d-d7c9-49ca-9513-ec412b54eb9d",
   "metadata": {},
   "outputs": [],
   "source": [
    "# optional\n",
    "TRAIN_PATH = os.path.join('TensorFlow', 'workspace', 'train')\n",
    "TEST_PATH = os.path.join('TensorFlow', 'workspace', 'test')\n",
    "ARCHIVE_PATH = os.path.join('TensorFlow', 'workspace', 'train')"
   ]
  }
 ],
 "metadata": {
  "kernelspec": {
   "display_name": "venv",
   "language": "python",
   "name": "venv"
  },
  "language_info": {
   "codemirror_mode": {
    "name": "ipython",
    "version": 3
   },
   "file_extension": ".py",
   "mimetype": "text/x-python",
   "name": "python",
   "nbconvert_exporter": "python",
   "pygments_lexer": "ipython3",
   "version": "3.12.4"
  }
 },
 "nbformat": 4,
 "nbformat_minor": 5
}
